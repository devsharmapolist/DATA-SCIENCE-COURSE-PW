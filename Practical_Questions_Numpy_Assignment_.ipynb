{
  "nbformat": 4,
  "nbformat_minor": 0,
  "metadata": {
    "colab": {
      "provenance": [],
      "authorship_tag": "ABX9TyO0JPGgBL+Pxd27jZiVt63W",
      "include_colab_link": true
    },
    "kernelspec": {
      "name": "python3",
      "display_name": "Python 3"
    },
    "language_info": {
      "name": "python"
    }
  },
  "cells": [
    {
      "cell_type": "markdown",
      "metadata": {
        "id": "view-in-github",
        "colab_type": "text"
      },
      "source": [
        "<a href=\"https://colab.research.google.com/github/devsharmapolist/DATA-SCIENCE-COURSE-PW/blob/main/Practical_Questions_Numpy_Assignment_.ipynb\" target=\"_parent\"><img src=\"https://colab.research.google.com/assets/colab-badge.svg\" alt=\"Open In Colab\"/></a>"
      ]
    },
    {
      "cell_type": "markdown",
      "source": [
        "1. Create a 3x3 NumPy array with random integers between 1 and 100. Then, interchange its rows and columns."
      ],
      "metadata": {
        "id": "yOsOv78Z4Xz5"
      }
    },
    {
      "cell_type": "code",
      "execution_count": 1,
      "metadata": {
        "colab": {
          "base_uri": "https://localhost:8080/"
        },
        "id": "Qn_qiVje4VFb",
        "outputId": "c82cfcc6-d3d9-43ea-ab92-a5e1e111c9bf"
      },
      "outputs": [
        {
          "output_type": "stream",
          "name": "stdout",
          "text": [
            "Original Array:\n",
            "[[96 64 82]\n",
            " [65 58 18]\n",
            " [77 78 84]]\n",
            "\n",
            "Transposed Array:\n",
            "[[96 65 77]\n",
            " [64 58 78]\n",
            " [82 18 84]]\n"
          ]
        }
      ],
      "source": [
        "import numpy as np\n",
        "\n",
        "# Create a 3x3 NumPy array with random integers between 1 and 100\n",
        "random_array = np.random.randint(1, 101, size=(3, 3))\n",
        "print(\"Original Array:\")\n",
        "print(random_array)\n",
        "\n",
        "# Interchange rows and columns (transpose the array)\n",
        "transposed_array = random_array.T\n",
        "print(\"\\nTransposed Array:\")\n",
        "print(transposed_array)\n"
      ]
    },
    {
      "cell_type": "markdown",
      "source": [
        "2. Generate a 1D NumPy array with 10 elements. Reshape it into a 2x5 array, then into a 5x2 array."
      ],
      "metadata": {
        "id": "c5gaO52t5bQs"
      }
    },
    {
      "cell_type": "code",
      "source": [
        "import numpy as np\n",
        "\n",
        "# Generate a 1D NumPy array with 10 elements\n",
        "array_1d = np.arange(1, 11)  # Elements from 1 to 10\n",
        "print(\"1D Array:\")\n",
        "print(array_1d)\n",
        "\n",
        "# Reshape it into a 2x5 array\n",
        "array_2x5 = array_1d.reshape(2, 5)\n",
        "print(\"\\nReshaped into 2x5 Array:\")\n",
        "print(array_2x5)\n",
        "\n",
        "# Reshape it into a 5x2 array\n",
        "array_5x2 = array_2x5.reshape(5, 2)\n",
        "print(\"\\nReshaped into 5x2 Array:\")\n",
        "print(array_5x2)\n",
        "\n"
      ],
      "metadata": {
        "colab": {
          "base_uri": "https://localhost:8080/"
        },
        "id": "dl4cqocF5gwr",
        "outputId": "009cf6d5-f29e-4d24-fcaa-416a4593a102"
      },
      "execution_count": 4,
      "outputs": [
        {
          "output_type": "stream",
          "name": "stdout",
          "text": [
            "1D Array:\n",
            "[ 1  2  3  4  5  6  7  8  9 10]\n",
            "\n",
            "Reshaped into 2x5 Array:\n",
            "[[ 1  2  3  4  5]\n",
            " [ 6  7  8  9 10]]\n",
            "\n",
            "Reshaped into 5x2 Array:\n",
            "[[ 1  2]\n",
            " [ 3  4]\n",
            " [ 5  6]\n",
            " [ 7  8]\n",
            " [ 9 10]]\n"
          ]
        }
      ]
    },
    {
      "cell_type": "markdown",
      "source": [
        "3. Create a 4x4 NumPy array with random float values. Add a border of zeros around it, resulting in a 6x6 array."
      ],
      "metadata": {
        "id": "-QI0GzUd6Fld"
      }
    },
    {
      "cell_type": "code",
      "source": [
        "import numpy as np\n",
        "\n",
        "# Create a 4x4 NumPy array with random float values\n",
        "array_4x4 = np.random.rand(4, 4)\n",
        "print(\"Original 4x4 Array:\")\n",
        "print(array_4x4)\n",
        "\n",
        "# Add a border of zeros around the array\n",
        "array_with_border = np.pad(array_4x4, pad_width=1, mode='constant', constant_values=0)\n",
        "print(\"\\n6x6 Array with Border of Zeros:\")\n",
        "print(array_with_border)\n"
      ],
      "metadata": {
        "colab": {
          "base_uri": "https://localhost:8080/"
        },
        "id": "y13lyx1P6UDO",
        "outputId": "4b3ca596-c0bb-46c2-c83a-316c09dac7e2"
      },
      "execution_count": 5,
      "outputs": [
        {
          "output_type": "stream",
          "name": "stdout",
          "text": [
            "Original 4x4 Array:\n",
            "[[0.32031308 0.33466603 0.30911548 0.14677686]\n",
            " [0.87867223 0.58169031 0.53603142 0.62871799]\n",
            " [0.70440244 0.1820732  0.88705793 0.27487721]\n",
            " [0.01091025 0.26800707 0.00088954 0.5656599 ]]\n",
            "\n",
            "6x6 Array with Border of Zeros:\n",
            "[[0.         0.         0.         0.         0.         0.        ]\n",
            " [0.         0.32031308 0.33466603 0.30911548 0.14677686 0.        ]\n",
            " [0.         0.87867223 0.58169031 0.53603142 0.62871799 0.        ]\n",
            " [0.         0.70440244 0.1820732  0.88705793 0.27487721 0.        ]\n",
            " [0.         0.01091025 0.26800707 0.00088954 0.5656599  0.        ]\n",
            " [0.         0.         0.         0.         0.         0.        ]]\n"
          ]
        }
      ]
    },
    {
      "cell_type": "markdown",
      "source": [
        "4. Using NumPy, create an array of integers from 10 to 60 with a step of 5"
      ],
      "metadata": {
        "id": "9V7gsFYl6KkY"
      }
    },
    {
      "cell_type": "code",
      "source": [
        "import numpy as np\n",
        "\n",
        "# Create an array of integers from 10 to 60 with a step of 5\n",
        "array = np.arange(10, 65, 5)\n",
        "print(\"Array of integers from 10 to 60 with a step of 5:\")\n",
        "print(array)\n"
      ],
      "metadata": {
        "colab": {
          "base_uri": "https://localhost:8080/"
        },
        "id": "oXl-Ojji6n_r",
        "outputId": "8a7e69bf-5943-4536-d74c-302f815455bc"
      },
      "execution_count": 6,
      "outputs": [
        {
          "output_type": "stream",
          "name": "stdout",
          "text": [
            "Array of integers from 10 to 60 with a step of 5:\n",
            "[10 15 20 25 30 35 40 45 50 55 60]\n"
          ]
        }
      ]
    },
    {
      "cell_type": "markdown",
      "source": [
        "5. Create a NumPy array of strings ['python', 'numpy', 'pandas']. Apply different case transformations\n",
        "(uppercase, lowercase, title case, etc.) to each element."
      ],
      "metadata": {
        "id": "eksFZrR96xro"
      }
    },
    {
      "cell_type": "code",
      "source": [
        "import numpy as np\n",
        "\n",
        "# Create a NumPy array of strings\n",
        "string_array = np.array(['python', 'numpy', 'pandas'])\n",
        "\n",
        "# Apply uppercase transformation\n",
        "uppercase_array = np.char.upper(string_array)\n",
        "print(\"Uppercase Transformation:\")\n",
        "print(uppercase_array)\n",
        "\n",
        "# Apply lowercase transformation\n",
        "lowercase_array = np.char.lower(string_array)\n",
        "print(\"\\nLowercase Transformation:\")\n",
        "print(lowercase_array)\n",
        "\n",
        "# Apply title case transformation\n",
        "titlecase_array = np.char.title(string_array)\n",
        "print(\"\\nTitle Case Transformation:\")\n",
        "print(titlecase_array)\n",
        "\n",
        "# Apply capitalize transformation (first character uppercase, rest lowercase)\n",
        "capitalize_array = np.char.capitalize(string_array)\n",
        "print(\"\\nCapitalize Transformation:\")\n",
        "print(capitalize_array)\n"
      ],
      "metadata": {
        "colab": {
          "base_uri": "https://localhost:8080/"
        },
        "id": "1iQiOeNN7GeF",
        "outputId": "122acb50-8cd7-42a0-f46e-188398905b8d"
      },
      "execution_count": 7,
      "outputs": [
        {
          "output_type": "stream",
          "name": "stdout",
          "text": [
            "Uppercase Transformation:\n",
            "['PYTHON' 'NUMPY' 'PANDAS']\n",
            "\n",
            "Lowercase Transformation:\n",
            "['python' 'numpy' 'pandas']\n",
            "\n",
            "Title Case Transformation:\n",
            "['Python' 'Numpy' 'Pandas']\n",
            "\n",
            "Capitalize Transformation:\n",
            "['Python' 'Numpy' 'Pandas']\n"
          ]
        }
      ]
    },
    {
      "cell_type": "markdown",
      "source": [
        "6. Generate a NumPy array of words. Insert a space between each character of every word in the array."
      ],
      "metadata": {
        "id": "og9J5J9u7XZ5"
      }
    },
    {
      "cell_type": "code",
      "source": [
        "import numpy as np\n",
        "\n",
        "# Create a NumPy array of words\n",
        "words_array = np.array(['python', 'numpy', 'pandas'])\n",
        "\n",
        "# Insert a space between each character of every word\n",
        "spaced_words_array = np.char.join(' ', words_array)\n",
        "print(\"Array with spaces between characters:\")\n",
        "print(spaced_words_array)\n"
      ],
      "metadata": {
        "colab": {
          "base_uri": "https://localhost:8080/"
        },
        "id": "CQHak5Ov7a7M",
        "outputId": "ccb8fd51-93f4-4128-b33f-25651c90d053"
      },
      "execution_count": 8,
      "outputs": [
        {
          "output_type": "stream",
          "name": "stdout",
          "text": [
            "Array with spaces between characters:\n",
            "['p y t h o n' 'n u m p y' 'p a n d a s']\n"
          ]
        }
      ]
    },
    {
      "cell_type": "markdown",
      "source": [
        "7. Create two 2D NumPy arrays and perform element-wise addition, subtraction, multiplication, and division."
      ],
      "metadata": {
        "id": "nJwXx9JT7vbL"
      }
    },
    {
      "cell_type": "code",
      "source": [
        "import numpy as np\n",
        "\n",
        "# Create two 2D NumPy arrays\n",
        "array1 = np.array([[1, 2, 3], [4, 5, 6]])\n",
        "array2 = np.array([[6, 5, 4], [3, 2, 1]])\n",
        "\n",
        "# Perform element-wise addition\n",
        "addition_result = array1 + array2\n",
        "print(\"Element-wise Addition:\")\n",
        "print(addition_result)\n",
        "\n",
        "# Perform element-wise subtraction\n",
        "subtraction_result = array1 - array2\n",
        "print(\"\\nElement-wise Subtraction:\")\n",
        "print(subtraction_result)\n",
        "\n",
        "# Perform element-wise multiplication\n",
        "multiplication_result = array1 * array2\n",
        "print(\"\\nElement-wise Multiplication:\")\n",
        "print(multiplication_result)\n",
        "\n",
        "# Perform element-wise division\n",
        "division_result = array1 / array2\n",
        "print(\"\\nElement-wise Division:\")\n",
        "print(division_result)\n"
      ],
      "metadata": {
        "colab": {
          "base_uri": "https://localhost:8080/"
        },
        "id": "F-eZnwBp7xP-",
        "outputId": "e2eaa527-a3f5-4401-a0c9-f6287e20bcb1"
      },
      "execution_count": 9,
      "outputs": [
        {
          "output_type": "stream",
          "name": "stdout",
          "text": [
            "Element-wise Addition:\n",
            "[[7 7 7]\n",
            " [7 7 7]]\n",
            "\n",
            "Element-wise Subtraction:\n",
            "[[-5 -3 -1]\n",
            " [ 1  3  5]]\n",
            "\n",
            "Element-wise Multiplication:\n",
            "[[ 6 10 12]\n",
            " [12 10  6]]\n",
            "\n",
            "Element-wise Division:\n",
            "[[0.16666667 0.4        0.75      ]\n",
            " [1.33333333 2.5        6.        ]]\n"
          ]
        }
      ]
    },
    {
      "cell_type": "markdown",
      "source": [
        "8. Use NumPy to create a 5x5 identity matrix, then extract its diagonal elements."
      ],
      "metadata": {
        "id": "Cqz4Enoo8B7a"
      }
    },
    {
      "cell_type": "code",
      "source": [
        "import numpy as np\n",
        "\n",
        "# Create a 5x5 identity matrix\n",
        "identity_matrix = np.eye(5)\n",
        "print(\"5x5 Identity Matrix:\")\n",
        "print(identity_matrix)\n",
        "\n",
        "# Extract the diagonal elements\n",
        "diagonal_elements = np.diagonal(identity_matrix)\n",
        "print(\"\\nDiagonal Elements of the Identity Matrix:\")\n",
        "print(diagonal_elements)\n"
      ],
      "metadata": {
        "colab": {
          "base_uri": "https://localhost:8080/"
        },
        "id": "CpsfKfAN8HXN",
        "outputId": "f735e540-d8a1-4306-8328-650ab53ae7e5"
      },
      "execution_count": 10,
      "outputs": [
        {
          "output_type": "stream",
          "name": "stdout",
          "text": [
            "5x5 Identity Matrix:\n",
            "[[1. 0. 0. 0. 0.]\n",
            " [0. 1. 0. 0. 0.]\n",
            " [0. 0. 1. 0. 0.]\n",
            " [0. 0. 0. 1. 0.]\n",
            " [0. 0. 0. 0. 1.]]\n",
            "\n",
            "Diagonal Elements of the Identity Matrix:\n",
            "[1. 1. 1. 1. 1.]\n"
          ]
        }
      ]
    },
    {
      "cell_type": "markdown",
      "source": [
        "9. Generate a NumPy array of 100 random integers between 0 and 1000. Find and display all prime numbers in\n",
        "this array"
      ],
      "metadata": {
        "id": "pWJLptP58hlx"
      }
    },
    {
      "cell_type": "code",
      "source": [
        "import numpy as np\n",
        "\n",
        "# Generate a NumPy array of 100 random integers between 0 and 1000\n",
        "random_array = np.random.randint(0, 1001, size=100)\n",
        "print(\"Random Array:\")\n",
        "print(random_array)\n",
        "\n",
        "# Function to check if a number is prime\n",
        "def is_prime(n):\n",
        "    if n <= 1:\n",
        "        return False\n",
        "    for i in range(2, int(n**0.5) + 1):\n",
        "        if n % i == 0:\n",
        "            return False\n",
        "    return True\n",
        "\n",
        "# Find and display all prime numbers in the array\n",
        "prime_numbers = [num for num in random_array if is_prime(num)]\n",
        "print(\"\\nPrime Numbers in the Array:\")\n",
        "print(prime_numbers)\n"
      ],
      "metadata": {
        "colab": {
          "base_uri": "https://localhost:8080/"
        },
        "id": "IXP2ZqSl8kA2",
        "outputId": "0f8709e0-4d05-4559-cc6b-1fc958848c6c"
      },
      "execution_count": 11,
      "outputs": [
        {
          "output_type": "stream",
          "name": "stdout",
          "text": [
            "Random Array:\n",
            "[689 559 629 846 887 757 183 863 638 183 556  81 351 741 753 840 868   9\n",
            " 690 600 130 586  44 889 812 394 334 141 975 279 926 982 128 296 886 399\n",
            "  10  64 280 472 535 624 466   8  71 806 130 980 254 382 358  36 452 488\n",
            " 294 810 373 515  92 953   8 520 581 833 501 966   4 655 889 385 956 604\n",
            " 325 640 267 348 511 698 388 194   9 601 813 810 853 605 964 475 759 969\n",
            "   9 199 762  94 360 288 983 374 453 768]\n",
            "\n",
            "Prime Numbers in the Array:\n",
            "[887, 757, 863, 71, 373, 953, 601, 853, 199, 983]\n"
          ]
        }
      ]
    },
    {
      "cell_type": "markdown",
      "source": [
        "10. Create a NumPy array representing daily temperatures for a month. Calculate and display the weekly\n",
        "averages."
      ],
      "metadata": {
        "id": "nE9EmRdA84-u"
      }
    },
    {
      "cell_type": "code",
      "source": [
        "import numpy as np\n",
        "\n",
        "# Create a NumPy array representing daily temperatures for a month (30 days)\n",
        "daily_temperatures = np.random.randint(15, 35, size=30)  # Temperatures between 15 and 35 degrees\n",
        "print(\"Daily Temperatures for the Month:\")\n",
        "print(daily_temperatures)\n",
        "\n",
        "# Reshape the array into 4 weeks (rows) and 7 days (columns)\n",
        "weekly_temperatures = daily_temperatures.reshape(4, 7)\n",
        "\n",
        "# Calculate and display the weekly averages\n",
        "weekly_averages = weekly_temperatures.mean(axis=1)\n",
        "print(\"\\nWeekly Averages of Temperatures:\")\n",
        "print(weekly_averages)\n",
        "\n"
      ],
      "metadata": {
        "colab": {
          "base_uri": "https://localhost:8080/",
          "height": 263
        },
        "id": "nESRSPPt9F4N",
        "outputId": "1d8f6a03-f067-4297-d5bc-d12445086b5a"
      },
      "execution_count": 14,
      "outputs": [
        {
          "output_type": "stream",
          "name": "stdout",
          "text": [
            "Daily Temperatures for the Month:\n",
            "[23 32 19 30 19 16 16 28 29 29 29 34 22 30 17 27 19 25 20 23 23 20 18 16\n",
            " 34 21 28 34 32 27]\n"
          ]
        },
        {
          "output_type": "error",
          "ename": "ValueError",
          "evalue": "cannot reshape array of size 30 into shape (4,7)",
          "traceback": [
            "\u001b[0;31m---------------------------------------------------------------------------\u001b[0m",
            "\u001b[0;31mValueError\u001b[0m                                Traceback (most recent call last)",
            "\u001b[0;32m<ipython-input-14-9185c5f2ee06>\u001b[0m in \u001b[0;36m<cell line: 0>\u001b[0;34m()\u001b[0m\n\u001b[1;32m      7\u001b[0m \u001b[0;34m\u001b[0m\u001b[0m\n\u001b[1;32m      8\u001b[0m \u001b[0;31m# Reshape the array into 4 weeks (rows) and 7 days (columns)\u001b[0m\u001b[0;34m\u001b[0m\u001b[0;34m\u001b[0m\u001b[0m\n\u001b[0;32m----> 9\u001b[0;31m \u001b[0mweekly_temperatures\u001b[0m \u001b[0;34m=\u001b[0m \u001b[0mdaily_temperatures\u001b[0m\u001b[0;34m.\u001b[0m\u001b[0mreshape\u001b[0m\u001b[0;34m(\u001b[0m\u001b[0;36m4\u001b[0m\u001b[0;34m,\u001b[0m \u001b[0;36m7\u001b[0m\u001b[0;34m)\u001b[0m\u001b[0;34m\u001b[0m\u001b[0;34m\u001b[0m\u001b[0m\n\u001b[0m\u001b[1;32m     10\u001b[0m \u001b[0;34m\u001b[0m\u001b[0m\n\u001b[1;32m     11\u001b[0m \u001b[0;31m# Calculate and display the weekly averages\u001b[0m\u001b[0;34m\u001b[0m\u001b[0;34m\u001b[0m\u001b[0m\n",
            "\u001b[0;31mValueError\u001b[0m: cannot reshape array of size 30 into shape (4,7)"
          ]
        }
      ]
    }
  ]
}