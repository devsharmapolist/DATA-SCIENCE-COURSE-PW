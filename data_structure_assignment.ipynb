{
  "nbformat": 4,
  "nbformat_minor": 0,
  "metadata": {
    "colab": {
      "provenance": [],
      "authorship_tag": "ABX9TyM8Y0XwOi+XQI6KmZ0snLKv",
      "include_colab_link": true
    },
    "kernelspec": {
      "name": "python3",
      "display_name": "Python 3"
    },
    "language_info": {
      "name": "python"
    }
  },
  "cells": [
    {
      "cell_type": "markdown",
      "metadata": {
        "id": "view-in-github",
        "colab_type": "text"
      },
      "source": [
        "<a href=\"https://colab.research.google.com/github/devsharmapolist/DATA-SCIENCE-COURSE-PW/blob/main/data_structure_assignment.ipynb\" target=\"_parent\"><img src=\"https://colab.research.google.com/assets/colab-badge.svg\" alt=\"Open In Colab\"/></a>"
      ]
    },
    {
      "cell_type": "code",
      "execution_count": null,
      "metadata": {
        "colab": {
          "base_uri": "https://localhost:8080/"
        },
        "id": "7ZuiuGxmVsXD",
        "outputId": "2ee6ef89-83b0-4f53-8119-e9854436d89c"
      },
      "outputs": [
        {
          "output_type": "stream",
          "name": "stdout",
          "text": [
            "Original String: Hello, World!\n",
            "Reversed String: !dlroW ,olleH\n"
          ]
        }
      ],
      "source": [
        "# Q1 code to reverse a string-\n",
        "def reverse_string(s):\n",
        "    return s[::-1]\n",
        "input_string = \"Hello, World!\"\n",
        "reversed_string = reverse_string(input_string)\n",
        "print(\"Original String:\", input_string)\n",
        "print(\"Reversed String:\", reversed_string)"
      ]
    },
    {
      "cell_type": "code",
      "source": [
        "# Q2 code to count the no. of vowels in a string-\n",
        "def count_vowels(s):\n",
        "    vowels = \"aeiouAEIOU\"\n",
        "    count = 0\n",
        "    for char in s:\n",
        "        if char in vowels:\n",
        "            count += 1\n",
        "    return count\n",
        "    input_string = \"Hello, World!\"\n",
        "vowel_count = count_vowels(input_string)\n",
        "print(\"Input String:\", input_string)\n",
        "print(\"Number of Vowels:\", vowel_count)"
      ],
      "metadata": {
        "colab": {
          "base_uri": "https://localhost:8080/"
        },
        "id": "gF-7aj5jWTVl",
        "outputId": "eab3aa81-2a73-4b3c-ecb2-77976640f126"
      },
      "execution_count": null,
      "outputs": [
        {
          "output_type": "stream",
          "name": "stdout",
          "text": [
            "Input String: Hello, World!\n",
            "Number of Vowels: 3\n"
          ]
        }
      ]
    },
    {
      "cell_type": "code",
      "source": [
        "# Q3 code to check if a given string is a palindrome or not-\n",
        "def is_palindrome(s):\n",
        "  normalized = ''.join(char.lower() for char in s if char.isalnum())\n",
        "  return normalized == normalized[::-1]\n",
        "input_string = \"A man, a plan, a canal: Panama\"\n",
        "if is_palindrome(s=input_string):\n",
        "    print(f'\"{input_string}\" is a palindrome.')\n",
        "else:\n",
        "    print(f'\"{input_string}\" is not a palindrome.');\n"
      ],
      "metadata": {
        "colab": {
          "base_uri": "https://localhost:8080/"
        },
        "id": "aRJdA4PLXK_z",
        "outputId": "ab6acc7e-2ad8-476b-b727-5f6f05d874a7"
      },
      "execution_count": null,
      "outputs": [
        {
          "output_type": "stream",
          "name": "stdout",
          "text": [
            "\"A man, a plan, a canal: Panama\" is a palindrome.\n"
          ]
        }
      ]
    },
    {
      "cell_type": "code",
      "source": [
        "# Q4 code to check if two given strings are anagrams of each other-\n",
        "def are_anagrams(str1, str2):\n",
        "    normalized_str1 = ''.join(sorted(str1.replace(\" \", \"\").lower()))\n",
        "    normalized_str2 = ''.join(sorted(str2.replace(\" \", \"\").lower()))\n",
        "    return normalized_str1 == normalized_str2\n",
        "string1 = \"listen\"\n",
        "string2 = \"Silent\"\n",
        "\n",
        "if are_anagrams(string1, string2):\n",
        "    print(f'\"{string1}\" and \"{string2}\" are anagrams.')\n",
        "else:\n",
        "    print(f'\"{string1}\" and \"{string2}\" are not anagrams.')\n"
      ],
      "metadata": {
        "colab": {
          "base_uri": "https://localhost:8080/"
        },
        "id": "1fKpOX1zaF3_",
        "outputId": "8be2c3dd-2514-4afa-94d8-c49b83455e06"
      },
      "execution_count": null,
      "outputs": [
        {
          "output_type": "stream",
          "name": "stdout",
          "text": [
            "\"listen\" and \"Silent\" are anagrams.\n"
          ]
        }
      ]
    },
    {
      "cell_type": "code",
      "source": [
        "# Q5 code to find all occurrences of a given substring within another string-\n",
        "def find_all_occurrences(text, substring):\n",
        "    occurrences = []\n",
        "    start = 0\n",
        "    while start < len(text):\n",
        "      start = text.find(substring, start)\n",
        "      if start == -1:\n",
        "           break\n",
        "      occurrences.append(start)\n",
        "      start += 1\n",
        "      return occurrences\n",
        "text = \"This is a test. This test is only a test.\"\n",
        "substring = \"test\"\n",
        "\n",
        "occurrences = find_all_occurrences(text, substring)\n",
        "print(f'The substring \"{substring}\" was found at positions: {occurrences}')"
      ],
      "metadata": {
        "colab": {
          "base_uri": "https://localhost:8080/"
        },
        "id": "sFdm216Zb7W6",
        "outputId": "96dbe814-6e09-448f-fc49-91ffd0ffe9d5"
      },
      "execution_count": null,
      "outputs": [
        {
          "output_type": "stream",
          "name": "stdout",
          "text": [
            "The substring \"test\" was found at positions: [10]\n"
          ]
        }
      ]
    },
    {
      "cell_type": "code",
      "source": [
        "# Q6 code to perform basic string compression using the counts of repeated characters\n",
        "def compress_string(s):\n",
        "    compressed = []\n",
        "    count = 1  # Initialize count for the first character\n",
        "\n",
        "    for i in range(1, len(s)):\n",
        "        if s[i] == s[i - 1]:\n",
        "            count += 1  # Increment count if the current char is the same as the previous\n",
        "        else:\n",
        "\n",
        "            compressed.append(s[i - 1] + str(count))\n",
        "            count = 1  # Reset count for the new character\n",
        "    if s:\n",
        "        compressed.append(s[-1] + str(count))\n",
        "    compressed_string = ''.join(compressed)\n",
        "    return compressed_string if len(compressed_string) < len(s) else s\n",
        "\n",
        "input_string = \"aaabcccccaaa\"\n",
        "compressed_string = compress_string(input_string)\n",
        "print(\"Original String:\", input_string)\n",
        "print(\"Compressed String:\", compressed_string)"
      ],
      "metadata": {
        "colab": {
          "base_uri": "https://localhost:8080/"
        },
        "id": "GDeIiA0_l02X",
        "outputId": "911a1c05-f8e8-4d6e-fd47-1d22b0e7f5d6"
      },
      "execution_count": null,
      "outputs": [
        {
          "output_type": "stream",
          "name": "stdout",
          "text": [
            "Original String: aaabcccccaaa\n",
            "Compressed String: a3b1c5a3\n"
          ]
        }
      ]
    },
    {
      "cell_type": "code",
      "source": [
        "# Q7 code to determine if a string has all unique characters\n",
        "\n",
        "def has_unique_characters(s):\n",
        "\n",
        "    seen = set()\n",
        "    for char in s:\n",
        "        if char in seen:\n",
        "            return False\n",
        "        seen.add(char)\n",
        "    return True\n",
        "\n",
        "input_string = \"abcdefg\"\n",
        "if has_unique_characters(input_string):\n",
        "    print(f'The string \"{input_string}\" has all unique characters.')\n",
        "else:\n",
        "    print(f'The string \"{input_string}\" does not have all unique characters.')\n"
      ],
      "metadata": {
        "colab": {
          "base_uri": "https://localhost:8080/"
        },
        "id": "FI0eserrmrjn",
        "outputId": "90188cb2-946a-49b4-b619-b6995931864d"
      },
      "execution_count": null,
      "outputs": [
        {
          "output_type": "stream",
          "name": "stdout",
          "text": [
            "The string \"abcdefg\" has all unique characters.\n"
          ]
        }
      ]
    },
    {
      "cell_type": "code",
      "source": [
        "# Q8  code to convert a given string to uppercase or lowercase\n",
        "def convert_case(s):\n",
        "    uppercase = s.upper()  # Convert to uppercase\n",
        "    lowercase = s.lower()  # Convert to lowercase\n",
        "    return uppercase, lowercase\n",
        "\n",
        "input_string = \"Hello, World!\"\n",
        "uppercase, lowercase = convert_case(input_string)\n",
        "print(\"Original String:\", input_string)\n",
        "print(\"Uppercase:\", uppercase)\n",
        "print(\"Lowercase:\", lowercase)\n"
      ],
      "metadata": {
        "colab": {
          "base_uri": "https://localhost:8080/"
        },
        "id": "OYTT-h1JnakG",
        "outputId": "0461adb6-2c59-48a1-dbdf-e6d8614b7071"
      },
      "execution_count": null,
      "outputs": [
        {
          "output_type": "stream",
          "name": "stdout",
          "text": [
            "Original String: Hello, World!\n",
            "Uppercase: HELLO, WORLD!\n",
            "Lowercase: hello, world!\n"
          ]
        }
      ]
    },
    {
      "cell_type": "code",
      "source": [],
      "metadata": {
        "id": "kLVtH7khPHVa"
      },
      "execution_count": null,
      "outputs": []
    },
    {
      "cell_type": "code",
      "source": [
        "# Q9 code to count the number of words in a string\n",
        "def count_words(s):\n",
        "    # Split the string by whitespace and count the resulting list elements\n",
        "    words = s.split()\n",
        "    return len(words)\n",
        "\n",
        "# Example use-\n",
        "input_string = \"This is a test string.\"\n",
        "word_count = count_words(input_string)\n",
        "print(\"Input String:\", input_string)\n",
        "print(\"Number of Words:\", word_count)"
      ],
      "metadata": {
        "colab": {
          "base_uri": "https://localhost:8080/"
        },
        "id": "As-el9JAOxo8",
        "outputId": "f7fc4614-6989-4b0f-d9a6-4fe46efce5b2"
      },
      "execution_count": null,
      "outputs": [
        {
          "output_type": "stream",
          "name": "stdout",
          "text": [
            "Input String: This is a test string.\n",
            "Number of Words: 5\n"
          ]
        }
      ]
    },
    {
      "cell_type": "code",
      "source": [
        "# Q10 code to concatenate two strings without using the + operator\n",
        "def concatenate_strings(s1, s2):\n",
        "    return \"{}{}\".format(s1, s2)\n",
        "\n",
        "# Example use-\n",
        "string1 = \"Hello, \"\n",
        "string2 = \"World!\"\n",
        "result = concatenate_strings(string1, string2)\n",
        "print(\"String 1:\", string1)\n",
        "print(\"String 2:\", string2)\n",
        "print(\"Concatenated String:\", result)"
      ],
      "metadata": {
        "colab": {
          "base_uri": "https://localhost:8080/"
        },
        "id": "v-ebh-MaPU9u",
        "outputId": "8ab98b44-82d0-4814-8684-c8fc09f74a3a"
      },
      "execution_count": null,
      "outputs": [
        {
          "output_type": "stream",
          "name": "stdout",
          "text": [
            "String 1: Hello, \n",
            "String 2: World!\n",
            "Concatenated String: Hello, World!\n"
          ]
        }
      ]
    },
    {
      "cell_type": "code",
      "source": [
        "# Q11  code to remove all occurrences of a specific element from a list\n",
        "def remove_all_occurrences(lst, element):\n",
        "    return [x for x in lst if x != element]\n",
        "\n",
        "# Example use-\n",
        "input_list = [1, 2, 3, 4, 3, 5, 3, 6]\n",
        "element_to_remove = 3\n",
        "result_list = remove_all_occurrences(input_list, element_to_remove)\n",
        "print(\"Original List:\", input_list)\n",
        "print(f\"List after removing all occurrences of {element_to_remove}:\", result_list)"
      ],
      "metadata": {
        "colab": {
          "base_uri": "https://localhost:8080/"
        },
        "id": "CZY5g1_lP72I",
        "outputId": "b603d414-b1a7-4f7f-86be-0c7963a82968"
      },
      "execution_count": null,
      "outputs": [
        {
          "output_type": "stream",
          "name": "stdout",
          "text": [
            "Original List: [1, 2, 3, 4, 3, 5, 3, 6]\n",
            "List after removing all occurrences of 3: [1, 2, 4, 5, 6]\n"
          ]
        }
      ]
    },
    {
      "cell_type": "code",
      "source": [
        "# Q12 a code to find the second largest number in a given list of integers\n",
        "def find_second_largest(numbers):\n",
        "    if len(numbers) < 2:\n",
        "        return None  # Not enough elements to determine the second largest\n",
        "    unique_numbers = list(set(numbers))  # Remove duplicates\n",
        "    if len(unique_numbers) < 2:\n",
        "        return None  # All numbers are the same\n",
        "    unique_numbers.sort(reverse=True)  # Sort in descending order\n",
        "    return unique_numbers[1]  # Return the second largest\n",
        "\n",
        "# Example use-\n",
        "input_list = [10, 20, 20, 4, 45, 99, 99]\n",
        "second_largest = find_second_largest(input_list)\n",
        "if second_largest is not None:\n",
        "    print(\"The second largest number is:\", second_largest)\n",
        "else:\n",
        "    print(\"The list doesn't have enough unique elements to determine the second largest.\")"
      ],
      "metadata": {
        "colab": {
          "base_uri": "https://localhost:8080/"
        },
        "id": "lBPW46oxt9WU",
        "outputId": "5874d781-df75-48db-a5fa-b9fa2aedafcf"
      },
      "execution_count": null,
      "outputs": [
        {
          "output_type": "stream",
          "name": "stdout",
          "text": [
            "The second largest number is: 45\n"
          ]
        }
      ]
    },
    {
      "cell_type": "code",
      "source": [
        "# Q13  a code to count the occurrences of each element in a list and return a dictionary with elements as\n",
        "#keys and their counts as values\n",
        "def count_occurrences(lst):\n",
        "    counts = {}\n",
        "    for element in lst:\n",
        "        if element in counts:\n",
        "            counts[element] += 1\n",
        "        else:\n",
        "            counts[element] = 1\n",
        "    return counts\n",
        "\n",
        "# Example use-\n",
        "input_list = [1, 2, 3, 2, 4, 3, 3, 1, 5]\n",
        "occurrences = count_occurrences(input_list)\n",
        "print(\"Element Counts:\", occurrences)"
      ],
      "metadata": {
        "colab": {
          "base_uri": "https://localhost:8080/"
        },
        "id": "Tr4RuXvbvbql",
        "outputId": "fedad095-05ac-4003-a4a2-a4629deec1b9"
      },
      "execution_count": null,
      "outputs": [
        {
          "output_type": "stream",
          "name": "stdout",
          "text": [
            "Element Counts: {1: 2, 2: 2, 3: 3, 4: 1, 5: 1}\n"
          ]
        }
      ]
    },
    {
      "cell_type": "code",
      "source": [
        "# Q14 a code to reverse a list in-place without using any built-in reverse functions\n",
        "def reverse_list(lst):\n",
        "    left = 0\n",
        "    right = len(lst) - 1\n",
        "    while left < right:\n",
        "        # Swap elements at the left and right indices\n",
        "        lst[left], lst[right] = lst[right], lst[left]\n",
        "        left += 1\n",
        "        right -= 1\n",
        "\n",
        "# Example use-\n",
        "input_list = [1, 2, 3, 4, 5]\n",
        "print(\"Original List:\", input_list)\n",
        "reverse_list(input_list)\n",
        "print(\"Reversed List:\", input_list)"
      ],
      "metadata": {
        "colab": {
          "base_uri": "https://localhost:8080/"
        },
        "id": "T3u_5_S2jWxM",
        "outputId": "30a70821-5065-453a-b59b-41df10b6ffc0"
      },
      "execution_count": null,
      "outputs": [
        {
          "output_type": "stream",
          "name": "stdout",
          "text": [
            "Original List: [1, 2, 3, 4, 5]\n",
            "Reversed List: [5, 4, 3, 2, 1]\n"
          ]
        }
      ]
    },
    {
      "cell_type": "code",
      "source": [
        "# Q15  code to find and remove duplicates from a list while preserving the original order of\n",
        "#elements\n",
        "def remove_duplicates(lst):\n",
        "    seen = set()  # Set to track seen elements\n",
        "    result = []\n",
        "    for element in lst:\n",
        "        if element not in seen:\n",
        "            result.append(element)  # Add unique element to the result\n",
        "            seen.add(element)  # Mark element as seen\n",
        "    return result\n",
        "\n",
        "# Example use-\n",
        "input_list = [1, 2, 2, 3, 4, 3, 5, 6, 5]\n",
        "output_list = remove_duplicates(input_list)\n",
        "print(\"Original List:\", input_list)\n",
        "print(\"List after removing duplicates:\", output_list)"
      ],
      "metadata": {
        "colab": {
          "base_uri": "https://localhost:8080/"
        },
        "id": "LaD1ptGwj-PJ",
        "outputId": "ab912963-4a08-42a0-9e87-d6f8350a0942"
      },
      "execution_count": null,
      "outputs": [
        {
          "output_type": "stream",
          "name": "stdout",
          "text": [
            "Original List: [1, 2, 2, 3, 4, 3, 5, 6, 5]\n",
            "List after removing duplicates: [1, 2, 3, 4, 5, 6]\n"
          ]
        }
      ]
    },
    {
      "cell_type": "code",
      "source": [
        "# Q16 a code to check if a given list is sorted (either in ascending or descending order) or not\n",
        "def is_sorted(lst):\n",
        "    if lst == sorted(lst):\n",
        "        return \"Ascending\"\n",
        "    elif lst == sorted(lst, reverse=True):\n",
        "        return \"Descending\"\n",
        "    else:\n",
        "        return \"Not Sorted\"\n",
        "\n",
        "# Example use-\n",
        "input_list1 = [1, 2, 3, 4, 5]\n",
        "input_list2 = [5, 4, 3, 2, 1]\n",
        "input_list3 = [1, 3, 2, 5, 4]\n",
        "\n",
        "print(f\"List {input_list1} is {is_sorted(input_list1)}.\")\n",
        "print(f\"List {input_list2} is {is_sorted(input_list2)}.\")\n",
        "print(f\"List {input_list3} is {is_sorted(input_list3)}.\")"
      ],
      "metadata": {
        "colab": {
          "base_uri": "https://localhost:8080/"
        },
        "id": "swAJodEOl_Ql",
        "outputId": "e5e9e978-f820-453f-851b-71c699ab9f6e"
      },
      "execution_count": null,
      "outputs": [
        {
          "output_type": "stream",
          "name": "stdout",
          "text": [
            "List [1, 2, 3, 4, 5] is Ascending.\n",
            "List [5, 4, 3, 2, 1] is Descending.\n",
            "List [1, 3, 2, 5, 4] is Not Sorted.\n"
          ]
        }
      ]
    },
    {
      "cell_type": "code",
      "source": [
        "# Q17  code to merge two sorted lists into a single sorted list\n",
        "def merge_sorted_lists(list1, list2):\n",
        "    merged_list = []\n",
        "    i, j = 0, 0  # Pointers for list1 and list2\n",
        "\n",
        "    # Merge elements from both lists while there are elements in both\n",
        "    while i < len(list1) and j < len(list2):\n",
        "        if list1[i] < list2[j]:\n",
        "            merged_list.append(list1[i])\n",
        "            i += 1\n",
        "        else:\n",
        "            merged_list.append(list2[j])\n",
        "            j += 1\n",
        "\n",
        "    # Add remaining elements from list1, if any\n",
        "    while i < len(list1):\n",
        "        merged_list.append(list1[i])\n",
        "        i += 1\n",
        "\n",
        "    # Add remaining elements from list2, if any\n",
        "    while j < len(list2):\n",
        "        merged_list.append(list2[j])\n",
        "        j += 1\n",
        "\n",
        "    return merged_list\n",
        "\n",
        "# Example use-\n",
        "sorted_list1 = [1, 3, 5, 7]\n",
        "sorted_list2 = [2, 4, 6, 8]\n",
        "\n",
        "result = merge_sorted_lists(sorted_list1, sorted_list2)\n",
        "print(\"Merged Sorted List:\", result)"
      ],
      "metadata": {
        "colab": {
          "base_uri": "https://localhost:8080/"
        },
        "id": "Eqy8JrSOm-OT",
        "outputId": "0e4f0e64-50c6-4235-84b3-8500e608f687"
      },
      "execution_count": null,
      "outputs": [
        {
          "output_type": "stream",
          "name": "stdout",
          "text": [
            "Merged Sorted List: [1, 2, 3, 4, 5, 6, 7, 8]\n"
          ]
        }
      ]
    },
    {
      "cell_type": "code",
      "source": [
        "# Q18  code to find the intersection of two given lists\n",
        "def find_intersection(list1, list2):\n",
        "    # Use a set to find common elements\n",
        "    intersection = list(set(list1) & set(list2))\n",
        "    return intersection\n",
        "\n",
        "# Example usage\n",
        "list1 = [1, 2, 3, 4, 5]\n",
        "list2 = [4, 5, 6, 7, 8]\n",
        "\n",
        "result = find_intersection(list1, list2)\n",
        "print(\"Intersection of the lists:\", result)"
      ],
      "metadata": {
        "colab": {
          "base_uri": "https://localhost:8080/"
        },
        "id": "k0cqCoZNnpJS",
        "outputId": "d9f45ea3-13a5-491d-e667-20fb22b7fe83"
      },
      "execution_count": null,
      "outputs": [
        {
          "output_type": "stream",
          "name": "stdout",
          "text": [
            "Intersection of the lists: [4, 5]\n"
          ]
        }
      ]
    },
    {
      "cell_type": "code",
      "source": [
        "# Q19 a code to find the union of two lists without duplicates\n",
        "def find_union(list1, list2):\n",
        "    # Use a set to remove duplicates and find the union\n",
        "    union = list(set(list1) | set(list2))\n",
        "    return union\n",
        "\n",
        "# Example usage\n",
        "list1 = [1, 2, 3, 4, 5]\n",
        "list2 = [4, 5, 6, 7, 8]\n",
        "\n",
        "result = find_union(list1, list2)\n",
        "print(\"Union of the lists:\", result)"
      ],
      "metadata": {
        "colab": {
          "base_uri": "https://localhost:8080/"
        },
        "id": "ifmOP0gaoWQ3",
        "outputId": "ed40a5d8-3525-45a1-f129-fff7979460a8"
      },
      "execution_count": null,
      "outputs": [
        {
          "output_type": "stream",
          "name": "stdout",
          "text": [
            "Union of the lists: [1, 2, 3, 4, 5, 6, 7, 8]\n"
          ]
        }
      ]
    },
    {
      "cell_type": "code",
      "source": [
        "# Q20 a code to shuffle a given list randomly without using any built-in shuffle functions\n",
        "import random\n",
        "\n",
        "# Function to shuffle a list randomly\n",
        "def custom_shuffle(lst):\n",
        "    n = len(lst)\n",
        "    for i in range(n - 1, 0, -1):\n",
        "        # Generate a random index\n",
        "        j = random.randint(0, i)\n",
        "        # Swap elements at i and j\n",
        "        lst[i], lst[j] = lst[j], lst[i]\n",
        "\n",
        "# Example usage\n",
        "input_list = [1, 2, 3, 4, 5]\n",
        "print(\"Original List:\", input_list)\n",
        "custom_shuffle(input_list)\n",
        "print(\"Shuffled List:\", input_list)"
      ],
      "metadata": {
        "id": "RSAdfaUVas2G",
        "colab": {
          "base_uri": "https://localhost:8080/"
        },
        "outputId": "57290f7d-4f5d-470b-c809-1852a19f828d"
      },
      "execution_count": null,
      "outputs": [
        {
          "output_type": "stream",
          "name": "stdout",
          "text": [
            "Original List: [1, 2, 3, 4, 5]\n",
            "Shuffled List: [3, 5, 1, 2, 4]\n"
          ]
        }
      ]
    },
    {
      "cell_type": "code",
      "source": [
        "# Q21 code that takes two tuples as input and returns a new tuple containing elements that are\n",
        "# common to both input tuples\n",
        "import random\n",
        "\n",
        "# Function to shuffle a list randomly\n",
        "def custom_shuffle(lst):\n",
        "    n = len(lst)\n",
        "    for i in range(n - 1, 0, -1):\n",
        "        # Generate a random index\n",
        "        j = random.randint(0, i)\n",
        "        # Swap elements at i and j\n",
        "        lst[i], lst[j] = lst[j], lst[i]\n",
        "\n",
        "# Example usage\n",
        "input_list = [1, 2, 3, 4, 5]\n",
        "print(\"Original List:\", input_list)\n",
        "custom_shuffle(input_list)\n",
        "print(\"Shuffled List:\", input_list)"
      ],
      "metadata": {
        "colab": {
          "base_uri": "https://localhost:8080/"
        },
        "id": "5Wk_O8G631VJ",
        "outputId": "c0c250ef-32a2-495d-db69-f9236b571d38"
      },
      "execution_count": null,
      "outputs": [
        {
          "output_type": "stream",
          "name": "stdout",
          "text": [
            "Original List: [1, 2, 3, 4, 5]\n",
            "Shuffled List: [4, 3, 2, 1, 5]\n"
          ]
        }
      ]
    },
    {
      "cell_type": "code",
      "source": [
        "# Q22  code that prompts the user to enter two sets of integers separated by commas. Then, print the\n",
        "#intersection of these two sets\n",
        "# Function to find the intersection of two sets\n",
        "def find_intersection(set1, set2):\n",
        "    return set1 & set2\n",
        "\n",
        "# Prompt user for input\n",
        "input1 = input(\"Enter the first set of integers, separated by commas: \")\n",
        "input2 = input(\"Enter the second set of integers, separated by commas: \")\n",
        "\n",
        "# Convert input strings to sets of integers\n",
        "set1 = set(map(int, input1.split(',')))\n",
        "set2 = set(map(int, input2.split(',')))\n",
        "\n",
        "# Find and print the intersection\n",
        "intersection = find_intersection(set1, set2)\n",
        "print(\"The intersection of the two sets is:\", intersection)"
      ],
      "metadata": {
        "id": "zQArdbHrejkj",
        "colab": {
          "base_uri": "https://localhost:8080/"
        },
        "outputId": "25b8bacd-d73f-4086-f8ce-37b83c415bc1"
      },
      "execution_count": null,
      "outputs": [
        {
          "output_type": "stream",
          "name": "stdout",
          "text": [
            "Enter the first set of integers, separated by commas: 1,2,3,4\n",
            "Enter the second set of integers, separated by commas: 5,7,8,9\n",
            "The intersection of the two sets is: set()\n"
          ]
        }
      ]
    },
    {
      "cell_type": "code",
      "source": [
        "# Q 23  code to concatenate two tuples. The function should take two tuples as input and return a new\n",
        "# tuple containing elements from both input tuples\n",
        "def concatenate_tuples(tuple1, tuple2):\n",
        "    return tuple1 + tuple2\n",
        "\n",
        "# Example usage\n",
        "tuple1 = (1, 2, 3)\n",
        "tuple2 = (4, 5, 6)\n",
        "\n",
        "result = concatenate_tuples(tuple1, tuple2)\n",
        "print(\"Concatenated Tuple:\", result)"
      ],
      "metadata": {
        "id": "O-h1JF6Zetnp",
        "colab": {
          "base_uri": "https://localhost:8080/"
        },
        "outputId": "8cbaef26-356f-4778-e0f0-ab1f5ece7239"
      },
      "execution_count": null,
      "outputs": [
        {
          "output_type": "stream",
          "name": "stdout",
          "text": [
            "Concatenated Tuple: (1, 2, 3, 4, 5, 6)\n"
          ]
        }
      ]
    },
    {
      "cell_type": "code",
      "source": [
        "# Q24 Develop a code that prompts the user to input two sets of strings. Then, print the elements that are\n",
        "# present in the first set but not in the second set\n",
        "# Function to find elements in the first set but not in the second\n",
        "def difference_between_sets(set1, set2):\n",
        "    return set1 - set2\n",
        "\n",
        "# Prompt user for input\n",
        "input1 = input(\"Enter the first set of strings, separated by commas: \")\n",
        "input2 = input(\"Enter the second set of strings, separated by commas: \")\n",
        "\n",
        "# Convert input strings to sets\n",
        "set1 = set(input1.split(','))\n",
        "set2 = set(input2.split(','))\n",
        "\n",
        "# Find the difference\n",
        "difference = difference_between_sets(set1, set2)\n",
        "\n",
        "# Print the result\n",
        "print(\"Elements present in the first set but not in the second set:\", difference)"
      ],
      "metadata": {
        "id": "vfgsbKnx4jzl"
      },
      "execution_count": null,
      "outputs": []
    },
    {
      "cell_type": "code",
      "source": [
        "# Q25 a code that takes a tuple and two integers as input. The function should return a new tuple\n",
        "# containing elements from the original tuple within the specified range of indices\n",
        "# Function to extract elements within a range of indices\n",
        "def slice_tuple(original_tuple, start_index, end_index):\n",
        "    # Use slicing to get the specified range\n",
        "    return original_tuple[start_index:end_index]\n",
        "\n",
        "# Example usage\n",
        "input_tuple = (1, 2, 3, 4, 5, 6, 7, 8)\n",
        "start = int(input(\"Enter the starting index: \"))\n",
        "end = int(input(\"Enter the ending index: \"))\n",
        "\n",
        "result = slice_tuple(input_tuple, start, end)\n",
        "print(\"Original Tuple:\", input_tuple)\n",
        "print(\"Sliced Tuple:\", result)\n"
      ],
      "metadata": {
        "colab": {
          "base_uri": "https://localhost:8080/"
        },
        "id": "jJL_9A0w5IK-",
        "outputId": "f8541b53-a9ed-4905-d630-1279f3a8e997"
      },
      "execution_count": null,
      "outputs": [
        {
          "output_type": "stream",
          "name": "stdout",
          "text": [
            "Enter the starting index: 4\n",
            "Enter the ending index: 7\n",
            "Original Tuple: (1, 2, 3, 4, 5, 6, 7, 8)\n",
            "Sliced Tuple: (5, 6, 7)\n"
          ]
        }
      ]
    },
    {
      "cell_type": "code",
      "source": [
        "# Q26 a code that prompts the user to input two sets of characters. Then, print the union of these two sets\n",
        "# Function to find the union of two sets\n",
        "def find_union(set1, set2):\n",
        "    return set1 | set2\n",
        "\n",
        "# Prompt user for input\n",
        "input1 = input(\"Enter the first set of characters, separated by commas: \")\n",
        "input2 = input(\"Enter the second set of characters, separated by commas: \")\n",
        "\n",
        "# Convert input strings to sets of characters\n",
        "set1 = set(input1.split(','))\n",
        "set2 = set(input2.split(','))\n",
        "\n",
        "# Find the union of the sets\n",
        "union = find_union(set1, set2)\n",
        "\n",
        "# Print the result\n",
        "print(\"Union of the two sets:\", union)\n"
      ],
      "metadata": {
        "colab": {
          "base_uri": "https://localhost:8080/"
        },
        "id": "VafKFa-V7kC-",
        "outputId": "9de54e9f-9f9e-41c0-85fb-217ae534d4e6"
      },
      "execution_count": null,
      "outputs": [
        {
          "output_type": "stream",
          "name": "stdout",
          "text": [
            "Enter the first set of characters, separated by commas: 1,2,3,4,5,6,7,8,9\n",
            "Enter the second set of characters, separated by commas: 12,13,15,16\n",
            "Union of the two sets: {'16', '1', '8', '9', '3', '12', '15', '5', '7', '4', '6', '13', '2'}\n"
          ]
        }
      ]
    },
    {
      "cell_type": "code",
      "source": [
        "# Q27 a code that takes a tuple of integers as input. The function should return the maximum and\n",
        "# minimum values from the tuple using tuple unpacking\n",
        "# Function to find the maximum and minimum values in a tuple\n",
        "def find_max_min(input_tuple):\n",
        "    max_val = max(input_tuple)\n",
        "    min_val = min(input_tuple)\n",
        "    return max_val, min_val  # Tuple unpacking in the return\n",
        "\n",
        "# Example usage\n",
        "input_tuple = tuple(map(int, input(\"Enter integers separated by commas: \").split(',')))\n",
        "\n",
        "# Get the maximum and minimum values\n",
        "max_val, min_val = find_max_min(input_tuple)\n",
        "\n",
        "# Print the results\n",
        "print(\"Original Tuple:\", input_tuple)\n",
        "print(f\"Maximum Value: {max_val}\")\n",
        "print(f\"Minimum Value: {min_val}\")\n"
      ],
      "metadata": {
        "colab": {
          "base_uri": "https://localhost:8080/"
        },
        "id": "GUV8pHhI8K9v",
        "outputId": "2ca0f2a7-7593-4a34-f87c-8ed2e37c42bf"
      },
      "execution_count": null,
      "outputs": [
        {
          "output_type": "stream",
          "name": "stdout",
          "text": [
            "Enter integers separated by commas: 1,2,3,4,5,6\n",
            "Original Tuple: (1, 2, 3, 4, 5, 6)\n",
            "Maximum Value: 6\n",
            "Minimum Value: 1\n"
          ]
        }
      ]
    },
    {
      "cell_type": "code",
      "source": [
        "# Q28  a code that defines two sets of integers. Then, print the union, intersection, and difference of these\n",
        "# two sets\n",
        "# Define two sets of integers\n",
        "set1 = {1, 2, 3, 4, 5}\n",
        "set2 = {4, 5, 6, 7, 8}\n",
        "\n",
        "# Perform set operations\n",
        "union = set1 | set2\n",
        "intersection = set1 & set2\n",
        "difference = set1 - set2\n",
        "\n",
        "# Print the results\n",
        "print(\"Set 1:\", set1)\n",
        "print(\"Set 2:\", set2)\n",
        "print(\"Union of the sets:\", union)\n",
        "print(\"Intersection of the sets:\", intersection)\n",
        "print(\"Difference (Set1 - Set2):\", difference)\n"
      ],
      "metadata": {
        "colab": {
          "base_uri": "https://localhost:8080/"
        },
        "id": "7oamhOq18ZEe",
        "outputId": "07a890fd-6a5f-4b51-e999-a8b91d8faf3f"
      },
      "execution_count": null,
      "outputs": [
        {
          "output_type": "stream",
          "name": "stdout",
          "text": [
            "Set 1: {1, 2, 3, 4, 5}\n",
            "Set 2: {4, 5, 6, 7, 8}\n",
            "Union of the sets: {1, 2, 3, 4, 5, 6, 7, 8}\n",
            "Intersection of the sets: {4, 5}\n",
            "Difference (Set1 - Set2): {1, 2, 3}\n"
          ]
        }
      ]
    },
    {
      "cell_type": "code",
      "source": [
        "# Q29 a code that takes a tuple and an element as input. The function should return the count of\n",
        "# occurrences of the given element in the tuple\n",
        "# Function to count occurrences of an element in a tuple\n",
        "def count_occurrences(input_tuple, element):\n",
        "    return input_tuple.count(element)\n",
        "\n",
        "# Example usage\n",
        "input_tuple = tuple(map(int, input(\"Enter integers separated by commas: \").split(',')))\n",
        "element = int(input(\"Enter the element to count: \"))\n",
        "\n",
        "# Get the count of the element\n",
        "count = count_occurrences(input_tuple, element)\n",
        "\n",
        "# Print the result\n",
        "print(f\"The element {element} occurs {count} time(s) in the tuple.\")\n"
      ],
      "metadata": {
        "colab": {
          "base_uri": "https://localhost:8080/"
        },
        "id": "T7PlR-st83Vm",
        "outputId": "5fcefcc2-b65e-497b-9489-76ead325bd2b"
      },
      "execution_count": null,
      "outputs": [
        {
          "output_type": "stream",
          "name": "stdout",
          "text": [
            "Enter integers separated by commas: 1,2,3,4,5,6\n",
            "Enter the element to count: 3\n",
            "The element 3 occurs 1 time(s) in the tuple.\n"
          ]
        }
      ]
    },
    {
      "cell_type": "code",
      "source": [
        "# Q30  code that prompts the user to input two sets of strings. Then, print the symmetric difference of\n",
        "# these two sets\n",
        "# Function to count occurrences of an element in a tuple\n",
        "def count_occurrences(input_tuple, element):\n",
        "    return input_tuple.count(element)\n",
        "\n",
        "# Example usage\n",
        "input_tuple = tuple(map(int, input(\"Enter integers separated by commas: \").split(',')))\n",
        "element = int(input(\"Enter the element to count: \"))\n",
        "\n",
        "# Get the count of the element\n",
        "count = count_occurrences(input_tuple, element)\n",
        "\n",
        "# Print the result\n",
        "print(f\"The element {element} occurs {count} time(s) in the tuple.\")\n"
      ],
      "metadata": {
        "colab": {
          "base_uri": "https://localhost:8080/"
        },
        "id": "49dGPwUG9j6P",
        "outputId": "026701f2-1690-4479-93c8-a22d778b1d7a"
      },
      "execution_count": null,
      "outputs": [
        {
          "output_type": "stream",
          "name": "stdout",
          "text": [
            "Enter integers separated by commas: 1,2,3,3,3,4,5,6\n",
            "Enter the element to count: 3\n",
            "The element 3 occurs 3 time(s) in the tuple.\n"
          ]
        }
      ]
    },
    {
      "cell_type": "code",
      "source": [
        "# Q31 a code that takes a list of words as input and returns a dictionary where the keys are unique words\n",
        "# and the values are the frequencies of those words in the input list\n",
        "# Function to count word frequencies in a list\n",
        "def word_frequencies(words):\n",
        "    frequency_dict = {}\n",
        "    for word in words:\n",
        "        if word in frequency_dict:\n",
        "            frequency_dict[word] += 1\n",
        "        else:\n",
        "            frequency_dict[word] = 1\n",
        "    return frequency_dict\n",
        "\n",
        "# Example usage\n",
        "input_words = input(\"Enter words separated by spaces: \").split()\n",
        "\n",
        "# Get the word frequencies\n",
        "frequencies = word_frequencies(input_words)\n",
        "\n",
        "# Print the result\n",
        "print(\"Word Frequencies:\", frequencies)\n",
        "\n"
      ],
      "metadata": {
        "id": "XlyvaaCxIrht",
        "colab": {
          "base_uri": "https://localhost:8080/"
        },
        "outputId": "f137fe07-68ea-4748-97b5-9b7be0eb77cd"
      },
      "execution_count": 1,
      "outputs": [
        {
          "output_type": "stream",
          "name": "stdout",
          "text": [
            "Enter words separated by spaces: 1 2 3 4 5 6 7 7 7 7\n",
            "Word Frequencies: {'1': 1, '2': 1, '3': 1, '4': 1, '5': 1, '6': 1, '7': 4}\n"
          ]
        }
      ]
    },
    {
      "cell_type": "code",
      "source": [
        "# Q32  code that takes two dictionaries as input and merges them into a single dictionary. If there are\n",
        "# common keys, the values should be added together\n",
        "# Function to merge two dictionaries\n",
        "def merge_dictionaries(dict1, dict2):\n",
        "    merged_dict = dict1.copy()  # Start with a copy of the first dictionary\n",
        "    for key, value in dict2.items():\n",
        "        if key in merged_dict:\n",
        "            merged_dict[key] += value  # Add the values if key is common\n",
        "        else:\n",
        "            merged_dict[key] = value  # Add the key-value pair if key is not in merged_dict\n",
        "    return merged_dict\n",
        "\n",
        "# Example usage\n",
        "dict1 = {'a': 5, 'b': 10, 'c': 15}\n",
        "dict2 = {'b': 20, 'c': 25, 'd': 30}\n",
        "\n",
        "# Merge the dictionaries\n",
        "result = merge_dictionaries(dict1, dict2)\n",
        "\n",
        "# Print the result\n",
        "print(\"Merged Dictionary:\", result)\n"
      ],
      "metadata": {
        "colab": {
          "base_uri": "https://localhost:8080/"
        },
        "id": "KBL01Ox-qKrB",
        "outputId": "f25ac446-9099-47dd-a852-b9f8b642f2c3"
      },
      "execution_count": 1,
      "outputs": [
        {
          "output_type": "stream",
          "name": "stdout",
          "text": [
            "Merged Dictionary: {'a': 5, 'b': 30, 'c': 40, 'd': 30}\n"
          ]
        }
      ]
    },
    {
      "cell_type": "code",
      "source": [
        "# Q33 code to access a value in a nested dictionary. The function should take the dictionary and a list of\n",
        "# keys as input, and return the corresponding value. If any of the keys do not exist in the dictionary, the\n",
        "# function should return None\n",
        "# Function to access a value in a nested dictionary\n",
        "def get_nested_value(nested_dict, keys):\n",
        "    current = nested_dict\n",
        "    for key in keys:\n",
        "        if key in current:\n",
        "            current = current[key]\n",
        "        else:\n",
        "            return None  # Return None if the key does not exist\n",
        "    return current\n",
        "\n",
        "# Example usage\n",
        "nested_dict = {\n",
        "    'a': {\n",
        "        'b': {\n",
        "            'c': 42,\n",
        "            'd': 99\n",
        "        },\n",
        "        'e': {\n",
        "            'f': 100\n",
        "        }\n",
        "    }\n",
        "}\n",
        "\n",
        "keys = input(\"Enter keys separated by commas: \").split(',')\n",
        "\n",
        "# Get the nested value\n",
        "value = get_nested_value(nested_dict, keys)\n",
        "\n",
        "# Print the result\n",
        "if value is not None:\n",
        "    print(\"The value is:\", value)\n",
        "else:\n",
        "    print(\"One or more keys do not exist in the dictionary.\")\n"
      ],
      "metadata": {
        "colab": {
          "base_uri": "https://localhost:8080/"
        },
        "id": "hROW0QA4QC78",
        "outputId": "9b461b25-e5a6-4b4e-8ee7-37b7e0d737eb"
      },
      "execution_count": 3,
      "outputs": [
        {
          "output_type": "stream",
          "name": "stdout",
          "text": [
            "Enter keys separated by commas: a\n",
            "The value is: {'b': {'c': 42, 'd': 99}, 'e': {'f': 100}}\n"
          ]
        }
      ]
    },
    {
      "cell_type": "code",
      "source": [
        "# Q34 code that takes a dictionary as input and returns a sorted version of it based on the values. You\n",
        "# can choose whether to sort in ascending or descending order\n",
        "# Function to sort a dictionary by its values\n",
        "def sort_dict_by_values(input_dict, ascending=True):\n",
        "    sorted_dict = dict(sorted(input_dict.items(), key=lambda item: item[1], reverse=not ascending))\n",
        "    return sorted_dict\n",
        "\n",
        "# Example usage\n",
        "input_dict = {\n",
        "    'apple': 5,\n",
        "    'banana': 2,\n",
        "    'cherry': 8,\n",
        "    'date': 1\n",
        "}\n",
        "\n",
        "order = input(\"Enter 'asc' for ascending or 'desc' for descending order: \").strip().lower()\n",
        "ascending = True if order == 'asc' else False\n",
        "\n",
        "# Sort the dictionary\n",
        "sorted_dict = sort_dict_by_values(input_dict, ascending)\n",
        "\n",
        "# Print the result\n",
        "print(f\"Sorted Dictionary ({'Ascending' if ascending else 'Descending'}):\", sorted_dict)\n"
      ],
      "metadata": {
        "colab": {
          "base_uri": "https://localhost:8080/"
        },
        "id": "e4MEIDn-Qfhn",
        "outputId": "83b41c15-5508-4023-808a-57df8010779d"
      },
      "execution_count": 4,
      "outputs": [
        {
          "output_type": "stream",
          "name": "stdout",
          "text": [
            "Enter 'asc' for ascending or 'desc' for descending order: asc\n",
            "Sorted Dictionary (Ascending): {'date': 1, 'banana': 2, 'apple': 5, 'cherry': 8}\n"
          ]
        }
      ]
    },
    {
      "cell_type": "code",
      "source": [
        "# Q35  code that inverts a dictionary, swapping keys and values. Ensure that the inverted dictionary\n",
        "# correctly handles cases where multiple keys have the same value by storing the keys as a list in the\n",
        "# inverted dictionary\n",
        "# Function to invert a dictionary\n",
        "def invert_dictionary(input_dict):\n",
        "    inverted_dict = {}\n",
        "    for key, value in input_dict.items():\n",
        "        if value not in inverted_dict:\n",
        "            inverted_dict[value] = [key]  # Create a new list for the value\n",
        "        else:\n",
        "            inverted_dict[value].append(key)  # Append to the existing list\n",
        "    return inverted_dict\n",
        "\n",
        "# Example usage\n",
        "input_dict = {\n",
        "    'a': 1,\n",
        "    'b': 2,\n",
        "    'c': 1,\n",
        "    'd': 3,\n",
        "    'e': 2\n",
        "}\n",
        "\n",
        "# Invert the dictionary\n",
        "inverted_dict = invert_dictionary(input_dict)\n",
        "\n",
        "# Print the result\n",
        "print(\"Original Dictionary:\", input_dict)\n",
        "print(\"Inverted Dictionary:\", inverted_dict)\n"
      ],
      "metadata": {
        "colab": {
          "base_uri": "https://localhost:8080/"
        },
        "id": "j8MD7pNBQuvp",
        "outputId": "67a1c42a-4e31-41a1-f016-296ac2fea9b9"
      },
      "execution_count": 5,
      "outputs": [
        {
          "output_type": "stream",
          "name": "stdout",
          "text": [
            "Original Dictionary: {'a': 1, 'b': 2, 'c': 1, 'd': 3, 'e': 2}\n",
            "Inverted Dictionary: {1: ['a', 'c'], 2: ['b', 'e'], 3: ['d']}\n"
          ]
        }
      ]
    }
  ]
}