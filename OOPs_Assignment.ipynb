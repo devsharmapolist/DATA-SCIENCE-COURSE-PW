{
  "nbformat": 4,
  "nbformat_minor": 0,
  "metadata": {
    "colab": {
      "provenance": [],
      "authorship_tag": "ABX9TyPPiRQ/gkSGy8Y8Nplxc8W8",
      "include_colab_link": true
    },
    "kernelspec": {
      "name": "python3",
      "display_name": "Python 3"
    },
    "language_info": {
      "name": "python"
    }
  },
  "cells": [
    {
      "cell_type": "markdown",
      "metadata": {
        "id": "view-in-github",
        "colab_type": "text"
      },
      "source": [
        "<a href=\"https://colab.research.google.com/github/devsharmapolist/DATA-SCIENCE-COURSE-PW/blob/main/OOPs_Assignment.ipynb\" target=\"_parent\"><img src=\"https://colab.research.google.com/assets/colab-badge.svg\" alt=\"Open In Colab\"/></a>"
      ]
    },
    {
      "cell_type": "markdown",
      "source": [
        "\n",
        "1. What are the five key concepts of Object-Oriented Programming (OOP)?\n",
        "-The five key concepts of **Object-Oriented Programming (OOP)** are:  \n",
        "\n",
        "### **1. Encapsulation**  \n",
        "Encapsulation is the concept of **bundling data (attributes) and methods (functions) that operate on the data into a single unit (class)**. It restricts direct access to some details of an object and only exposes necessary parts.  \n",
        "\n",
        " **Example:**  \n",
        "```python\n",
        "class BankAccount:\n",
        "    def __init__(self, balance):\n",
        "        self.__balance = balance  # Private attribute\n",
        "\n",
        "    def deposit(self, amount):\n",
        "        self.__balance += amount\n",
        "\n",
        "    def get_balance(self):\n",
        "        return self.__balance  # Controlled access\n",
        "\n",
        "account = BankAccount(1000)\n",
        "account.deposit(500)\n",
        "print(account.get_balance())\n",
        "# print(account.__balance)  # ❌ AttributeError (private)\n",
        "```\n",
        "---\n",
        "### **2. Abstraction**  \n",
        "Abstraction is **hiding the internal implementation details** and exposing only the necessary parts of an object. It helps in reducing complexity.  \n",
        "\n",
        " **Example using Abstract Classes:**  \n",
        "```python\n",
        "from abc import ABC, abstractmethod\n",
        "\n",
        "class Vehicle(ABC):\n",
        "    @abstractmethod\n",
        "    def start_engine(self):\n",
        "        pass  # No implementation here (hidden details)\n",
        "\n",
        "class Car(Vehicle):\n",
        "    def start_engine(self):\n",
        "        print(\"Car engine started 🚗\")\n",
        "\n",
        "car = Car()\n",
        "car.start_engine()  \n",
        "```\n",
        "---\n",
        "### **3. Inheritance**  \n",
        "Inheritance allows a class (child) to **reuse attributes and methods from another class (parent)**, reducing code duplication.  \n",
        "\n",
        " **Example:**  \n",
        "```python\n",
        "class Animal:\n",
        "    def speak(self):\n",
        "        return \"Some sound\"\n",
        "\n",
        "class Dog(Animal):  # Dog inherits from Animal\n",
        "    def speak(self):\n",
        "        return \"Bark \"\n",
        "\n",
        "dog = Dog()\n",
        "print(dog.speak())\n",
        "```\n",
        "---\n",
        "### **4. Polymorphism**  \n",
        "Polymorphism means **\"many forms\"**, allowing the same method name to work differently in different classes.  \n",
        "\n",
        " **Example:**  \n",
        "```python\n",
        "class Bird:\n",
        "    def make_sound(self):\n",
        "        return \"Chirp \"\n",
        "\n",
        "class Dog:\n",
        "    def make_sound(self):\n",
        "        return \"Bark \"\n",
        "\n",
        "# Polymorphic function\n",
        "def animal_sound(animal):\n",
        "    print(animal.make_sound())\n",
        "\n",
        "bird = Bird()\n",
        "dog = Dog()\n",
        "\n",
        "animal_sound(bird)   \n",
        "animal_sound(dog)   \n",
        "```\n",
        "---\n",
        "### **5. Association (Aggregation & Composition)**  \n",
        "Association is the **relationship between objects**, where one object can use another. There are two types:  \n",
        "\n",
        "- **Aggregation**: A \"has-a\" relationship where objects can exist independently.  \n",
        "- **Composition**: A strong \"has-a\" relationship where objects depend on the parent.  \n",
        "\n",
        " **Example (Aggregation):**  \n",
        "```python\n",
        "class Engine:\n",
        "    def start(self):\n",
        "        return \"Engine started \"\n",
        "\n",
        "class Car:\n",
        "    def __init__(self, engine):\n",
        "        self.engine = engine  # Car \"has-a\" Engine\n",
        "\n",
        "    def start_car(self):\n",
        "        return self.engine.start()\n",
        "\n",
        "engine = Engine()\n",
        "car = Car(engine)\n",
        "print(car.start_car())  \n",
        "```\n",
        "\n"
      ],
      "metadata": {
        "id": "SaoUPofKhPQl"
      }
    },
    {
      "cell_type": "markdown",
      "source": [
        "2. Write a Python class for a `Car` with attributes for `make`, `model`, and `year`. Include a method to display\n",
        "the car's information."
      ],
      "metadata": {
        "id": "fnE0vFpPT0Bh"
      }
    },
    {
      "cell_type": "code",
      "execution_count": 2,
      "metadata": {
        "colab": {
          "base_uri": "https://localhost:8080/"
        },
        "id": "aVGg9dS5hFXY",
        "outputId": "30532804-b1eb-4ce3-91dd-42b90e51f08b"
      },
      "outputs": [
        {
          "output_type": "stream",
          "name": "stdout",
          "text": [
            "Car: 2022 VW POLO\n"
          ]
        }
      ],
      "source": [
        "class Car:\n",
        "    def __init__(self, make, model, year):\n",
        "        \"\"\"Initialize the car attributes\"\"\"\n",
        "        self.make = make\n",
        "        self.model = model\n",
        "        self.year = year\n",
        "\n",
        "    def display_info(self):\n",
        "        \"\"\"Display car details\"\"\"\n",
        "        print(f\"Car: {self.year} {self.make} {self.model}\")\n",
        "\n",
        "# Example Usage\n",
        "car1 = Car(\"VW\", \"POLO\", 2022)\n",
        "car1.display_info()\n"
      ]
    },
    {
      "cell_type": "markdown",
      "source": [
        "3. Explain the difference between instance methods and class methods. Provide an example of each-\n",
        "### **Difference Between Instance Methods and Class Methods in Python**  \n",
        "\n",
        "#### **1. Instance Methods**  \n",
        "- **Belong to an instance** of the class.  \n",
        "- **Can access and modify instance attributes.**  \n",
        "- **Defined using `self`** as the first parameter.  \n",
        " **Example of an Instance Method:**  \n",
        "```python\n",
        "class Car:\n",
        "    def __init__(self, make, model):\n",
        "        self.make = make\n",
        "        self.model = model\n",
        "\n",
        "    def display_info(self):  # Instance method\n",
        "        return f\"Car: {self.make} {self.model}\"\n",
        "\n",
        "car1 = Car(\"Toyota\", \"Camry\")\n",
        "print(car1.display_info())\n",
        "```\n",
        "---\n",
        "#### **2. Class Methods**  \n",
        "- **Belong to the class rather than any instance.**  \n",
        "- **Can access and modify class-level attributes** but not instance attributes.  \n",
        "- **Use `cls` instead of `self`** and are decorated with `@classmethod`.  \n",
        "\n",
        " **Example of a Class Method:**  \n",
        "```python\n",
        "class Car:\n",
        "    manufacturer = \"Unknown\"  # Class-level attribute\n",
        "\n",
        "    def __init__(self, make, model):\n",
        "        self.make = make\n",
        "        self.model = model\n",
        "\n",
        "    @classmethod\n",
        "    def set_manufacturer(cls, name):  # Class method\n",
        "        cls.manufacturer = name\n",
        "\n",
        "    @classmethod\n",
        "    def get_manufacturer(cls):\n",
        "        return cls.manufacturer\n",
        "\n",
        "Car.set_manufacturer(\"Toyota\")\n",
        "print(Car.get_manufacturer())  \n",
        "```\n",
        "\n",
        "---\n",
        "### **Key Differences**  \n",
        "| Feature         | Instance Method | Class Method |\n",
        "|---------------|----------------|-------------|\n",
        "| **Belongs to** | Instance of the class | The class itself |\n",
        "| **First parameter** | `self` (refers to instance) | `cls` (refers to class) |\n",
        "| **Accesses instance attributes** |  Yes |  No |\n",
        "| **Accesses class attributes** |  Yes |  Yes |\n",
        "| **Can modify instance attributes** |  Yes |  No |\n",
        "| **Can modify class attributes** |  No |  Yes |\n",
        "\n",
        ""
      ],
      "metadata": {
        "id": "84Z2HOwxUbyJ"
      }
    },
    {
      "cell_type": "markdown",
      "source": [
        "4. How does Python implement method overloading? Give an example\n",
        "### **Method Overloading in Python**  \n",
        "\n",
        "Python **does not support traditional method overloading** like Java or C++. Instead, it allows method overloading using **default arguments, `*args`, and `**kwargs`** to handle different numbers of parameters.  \n",
        "\n",
        "---\n",
        "\n",
        "### **Example 1: Using Default Arguments**  \n",
        "```python\n",
        "class MathOperations:\n",
        "    def add(self, a, b=0, c=0):\n",
        "        return a + b + c  # Handles different numbers of arguments\n",
        "\n",
        "obj = MathOperations()\n",
        "print(obj.add(5))        # Output: 5 (a=5, b=0, c=0)\n",
        "print(obj.add(5, 10))    # Output: 15 (a=5, b=10, c=0)\n",
        "print(obj.add(5, 10, 15)) # Output: 30 (a=5, b=10, c=15)\n",
        "```\n",
        "\n",
        "---\n",
        "\n",
        "### **Example 2: Using `*args` for Flexible Parameters**  \n",
        "```python\n",
        "class MathOperations:\n",
        "    def add(self, *args):  # Accepts any number of arguments\n",
        "        return sum(args)\n",
        "\n",
        "obj = MathOperations()\n",
        "print(obj.add(5, 10))     \n",
        "print(obj.add(5, 10, 15))   \n",
        "print(obj.add(5))          \n",
        "print(obj.add(1, 2, 3, 4))\n",
        "```\n",
        "\n",
        "---\n",
        "\n",
        "### **Example 3: Using `@singledispatch` for Type-Based Overloading**\n",
        "Python’s `functools.singledispatch` allows **method overloading based on argument type**.\n",
        "\n",
        "```python\n",
        "from functools import singledispatch\n",
        "\n",
        "@singledispatch\n",
        "def display(value):\n",
        "    print(f\"Default: {value}\")\n",
        "\n",
        "@display.register(int)\n",
        "def _(value):\n",
        "    print(f\"Integer: {value}\")\n",
        "\n",
        "@display.register(str)\n",
        "def _(value):\n",
        "    print(f\"String: {value.upper()}\")\n",
        "\n",
        "display(10)      \n",
        "display(\"hello\")  \n",
        "display(3.14)     \n",
        "```\n",
        "\n",
        "---\n",
        "\n",
        "\n",
        "| **Default Arguments** | Provide default values to handle different argument counts |\n",
        "| **`*args` and `**kwargs`** | Allow flexible numbers of arguments |\n",
        "| **`functools.singledispatch`** | Enables function overloading based on data type |\n",
        "\n"
      ],
      "metadata": {
        "id": "58bObRZqU259"
      }
    },
    {
      "cell_type": "markdown",
      "source": [
        "5. What are the three types of access modifiers in Python? How are they denoted?\n",
        "### **Three Types of Access Modifiers in Python**  \n",
        "\n",
        "Python has three access modifiers to define the visibility of class attributes and methods. These are:  \n",
        "\n",
        "| Access Modifier | Symbol | Accessibility |\n",
        "|----------------|--------|--------------|\n",
        "| **Public** | No underscore | Accessible from anywhere |\n",
        "| **Protected** | Single underscore `_` | Accessible within the class and subclasses |\n",
        "| **Private** | Double underscore `__` | Accessible only within the class (name-mangled) |\n",
        "\n",
        "---\n",
        "\n",
        "### **1. Public Access Modifier (`No Underscore`)**  \n",
        "- Members defined without an underscore are **public**.  \n",
        "- They can be accessed and modified from anywhere.  \n",
        "\n",
        "```python\n",
        "class Car:\n",
        "    def __init__(self, make, model):\n",
        "        self.make = make  # Public attribute\n",
        "        self.model = model  # Public attribute\n",
        "\n",
        "car = Car(\"Toyota\", \"Camry\")\n",
        "print(car.make)  # Allowed: Toyota\n",
        "print(car.model)  # Allowed: Camry\n",
        "car.make = \"Honda\"  # Modification allowed\n",
        "print(car.make)  # Output: Honda\n",
        "```\n",
        "\n",
        "---\n",
        "\n",
        "### **2. Protected Access Modifier (`_single_underscore`)**  \n",
        "- A **single underscore (`_attribute`)** indicates **protected** members.  \n",
        "- These should **not** be accessed outside the class but **can** be accessed in subclasses.  \n",
        "\n",
        "```python\n",
        "class Car:\n",
        "    def __init__(self, make, model):\n",
        "        self._make = make  # Protected attribute\n",
        "\n",
        "class SportsCar(Car):\n",
        "    def display(self):\n",
        "        print(f\"SportsCar Make: {self._make}\")  # Accessible in subclass\n",
        "\n",
        "car = SportsCar(\"Ferrari\", \"F8\")\n",
        "car.display()  # Output: SportsCar Make: Ferrari\n",
        "print(car._make)  # Not recommended but accessible: Ferrari\n",
        "```\n",
        "\n",
        "---\n",
        "\n",
        "### **3. Private Access Modifier (`__double_underscore`)**  \n",
        "- **Double underscore (`__attribute`)** makes attributes **private**.  \n",
        "- They are **not directly accessible** outside the class (Python applies **name mangling**).  \n",
        "\n",
        "```python\n",
        "class BankAccount:\n",
        "    def __init__(self, balance):\n",
        "        self.__balance = balance  # Private attribute\n",
        "\n",
        "    def get_balance(self):\n",
        "        return self.__balance  # Accessible inside the class\n",
        "\n",
        "account = BankAccount(5000)\n",
        "# print(account.__balance)  # ❌ AttributeError: 'BankAccount' object has no attribute '__balance'\n",
        "print(account.get_balance())  # ✅ Output: 5000\n",
        "\n",
        "# Name Mangling allows access (not recommended)\n",
        "print(account._BankAccount__balance)  # Output: 5000\n",
        "```\n",
        "\n",
        "---\n",
        "\n",
        "### **Summary of Access Modifiers in Python**  \n",
        "\n",
        "| Modifier | Notation | Access Within Class | Access Outside Class | Access in Subclass |\n",
        "|----------|---------|----------------------|----------------------|--------------------|\n",
        "| **Public** | `attribute` | ✅ Yes | ✅ Yes | ✅ Yes |\n",
        "| **Protected** | `_attribute` | ✅ Yes | ⚠️ Possible (not recommended) | ✅ Yes |\n",
        "| **Private** | `__attribute` | ✅ Yes | ❌ No (name mangling needed) | ❌ No |\n",
        "\n",
        "Would you like a deeper explanation of **name mangling** or **best practices** for using these modifiers?"
      ],
      "metadata": {
        "id": "U9itGc_2WKqr"
      }
    },
    {
      "cell_type": "markdown",
      "source": [
        "6. Describe the five types of inheritance in Python. Provide a simple example of multiple inheritance\n",
        "### **Five Types of Inheritance in Python**  -\n",
        "\n",
        "1. **Single Inheritance** – One child class inherits from one parent.  \n",
        "   ```python\n",
        "   class Animal:\n",
        "       def speak(self): return \"Some sound\"\n",
        "   class Dog(Animal):\n",
        "       def speak(self): return \"Bark\"\n",
        "   ```\n",
        "\n",
        "2. **Multiple Inheritance** – A class inherits from multiple parents.  \n",
        "   ```python\n",
        "   class Engine: def start(self): return \"Engine started\"\n",
        "   class Wheels: def roll(self): return \"Wheels rolling\"\n",
        "   class Car(Engine, Wheels): pass\n",
        "   ```\n",
        "\n",
        "3. **Multilevel Inheritance** – A class inherits from another class, forming a chain.  \n",
        "   ```python\n",
        "   class Animal: pass\n",
        "   class Mammal(Animal): pass\n",
        "   class Dog(Mammal): pass\n",
        "   ```\n",
        "\n",
        "4. **Hierarchical Inheritance** – Multiple child classes inherit from the same parent.  \n",
        "   ```python\n",
        "   class Animal: pass\n",
        "   class Dog(Animal): pass\n",
        "   class Cat(Animal): pass\n",
        "   ```\n",
        "\n",
        "5. **Hybrid Inheritance** – A combination of different types of inheritance.  \n",
        "   ```python\n",
        "   class Vehicle: pass\n",
        "   class Engine: pass\n",
        "   class Car(Vehicle, Engine): pass\n",
        "   class ElectricCar(Car): pass\n",
        "   ```\n",
        "\n",
        "Would you like an example of **MRO in multiple inheritance**?"
      ],
      "metadata": {
        "id": "VtgURAqFWYBo"
      }
    },
    {
      "cell_type": "markdown",
      "source": [
        "7. What is the Method Resolution Order (MRO) in Python? How can you retrieve it programmatically?\n",
        "### **Method Resolution Order (MRO) in Python**  \n",
        "MRO defines the order in which Python looks for methods in a class hierarchy, especially in multiple inheritance. Python follows the **C3 Linearization (Depth-First, Left-to-Right, with no duplicates).**\n",
        "\n",
        "#### **Retrieving MRO Programmatically**\n",
        "1. **Using `__mro__` attribute**  \n",
        "   ```python\n",
        "   class A: pass\n",
        "   class B(A): pass\n",
        "   class C(B): pass\n",
        "\n",
        "   print(C.__mro__)  # Output: (<class '__main__.C'>, <class '__main__.B'>, <class '__main__.A'>, <class 'object'>)\n",
        "   ```\n",
        "\n",
        "2. **Using `mro()` method**  \n",
        "   ```python\n",
        "   print(C.mro())  # Same output as above\n",
        "   ```\n",
        "\n",
        "3. **Using `help()` function**  \n",
        "   ```python\n",
        "   help(C)\n",
        "   ```\n",
        "\n",
        "Would you like an example with multiple inheritance?"
      ],
      "metadata": {
        "id": "vkAEtnEVWyxq"
      }
    },
    {
      "cell_type": "markdown",
      "source": [
        "8. Create an abstract base class `Shape` with an abstract method `area()`. Then create two subclasses\n",
        "`Circle` and `Rectangle` that implement the `area()` method."
      ],
      "metadata": {
        "id": "_ySxOQQhXJFT"
      }
    },
    {
      "cell_type": "code",
      "source": [
        "from abc import ABC, abstractmethod\n",
        "import math\n",
        "\n",
        "# Abstract base class\n",
        "class Shape(ABC):\n",
        "    @abstractmethod\n",
        "    def area(self):\n",
        "        pass\n",
        "\n",
        "# Subclass Circle\n",
        "class Circle(Shape):\n",
        "    def __init__(self, radius):\n",
        "        self.radius = radius\n",
        "\n",
        "    def area(self):\n",
        "        return math.pi * self.radius ** 2\n",
        "\n",
        "# Subclass Rectangle\n",
        "class Rectangle(Shape):\n",
        "    def __init__(self, length, width):\n",
        "        self.length = length\n",
        "        self.width = width\n",
        "\n",
        "    def area(self):\n",
        "        return self.length * self.width\n",
        "\n",
        "# Example usage\n",
        "circle = Circle(5)\n",
        "rectangle = Rectangle(4, 6)\n",
        "\n",
        "print(\"Circle Area:\", circle.area())      # Output: 78.54\n",
        "print(\"Rectangle Area:\", rectangle.area()) # Output: 24\n"
      ],
      "metadata": {
        "colab": {
          "base_uri": "https://localhost:8080/"
        },
        "id": "OQRHLUTdXNZL",
        "outputId": "2fa90e00-73a1-476c-f317-614fb7df4a37"
      },
      "execution_count": 3,
      "outputs": [
        {
          "output_type": "stream",
          "name": "stdout",
          "text": [
            "Circle Area: 78.53981633974483\n",
            "Rectangle Area: 24\n"
          ]
        }
      ]
    },
    {
      "cell_type": "markdown",
      "source": [
        "10. Implement encapsulation in a `BankAccount` class with private attributes for `balance` and\n",
        "`account_number`. Include methods for deposit, withdrawal, and balance inquiry."
      ],
      "metadata": {
        "id": "P-C6zVOPXkqK"
      }
    },
    {
      "cell_type": "code",
      "source": [
        "class BankAccount:\n",
        "    def __init__(self, account_number, balance=0):\n",
        "        self.__account_number = account_number  # Private attribute\n",
        "        self.__balance = balance  # Private attribute\n",
        "\n",
        "    def deposit(self, amount):\n",
        "        if amount > 0:\n",
        "            self.__balance += amount\n",
        "            return f\"Deposited: {amount}. New Balance: {self.__balance}\"\n",
        "        return \"Invalid deposit amount\"\n",
        "\n",
        "    def withdraw(self, amount):\n",
        "        if 0 < amount <= self.__balance:\n",
        "            self.__balance -= amount\n",
        "            return f\"Withdrawn: {amount}. Remaining Balance: {self.__balance}\"\n",
        "        return \"Insufficient balance or invalid amount\"\n",
        "\n",
        "    def get_balance(self):\n",
        "        return f\"Current Balance: {self.__balance}\"\n",
        "\n",
        "# Example usage\n",
        "account = BankAccount(\"123456789\", 5000)\n",
        "print(account.deposit(1000))  # Deposited: 1000. New Balance: 6000\n",
        "print(account.withdraw(2000)) # Withdrawn: 2000. Remaining Balance: 4000\n",
        "print(account.get_balance())  # Current Balance: 4000\n",
        "\n"
      ],
      "metadata": {
        "colab": {
          "base_uri": "https://localhost:8080/"
        },
        "id": "-j350HNzXozQ",
        "outputId": "1af2d446-3d8f-4950-874c-323c84894f88"
      },
      "execution_count": 5,
      "outputs": [
        {
          "output_type": "stream",
          "name": "stdout",
          "text": [
            "Deposited: 1000. New Balance: 6000\n",
            "Withdrawn: 2000. Remaining Balance: 4000\n",
            "Current Balance: 4000\n"
          ]
        }
      ]
    },
    {
      "cell_type": "markdown",
      "source": [
        "11. Write a class that overrides the `__str__` and `__add__` magic methods. What will these methods allow\n",
        "you to do?"
      ],
      "metadata": {
        "id": "ezzO5e0fX-pn"
      }
    },
    {
      "cell_type": "code",
      "source": [
        "class Book:\n",
        "    def __init__(self, title, pages):\n",
        "        self.title = title\n",
        "        self.pages = pages\n",
        "\n",
        "    def __str__(self):\n",
        "        return f\"Book: {self.title}, Pages: {self.pages}\"\n",
        "\n",
        "    def __add__(self, other):\n",
        "        if isinstance(other, Book):\n",
        "            return Book(f\"{self.title} & {other.title}\", self.pages + other.pages)\n",
        "        return NotImplemented\n",
        "\n",
        "# Example usage\n",
        "book1 = Book(\"Python Basics\", 300)\n",
        "book2 = Book(\"Advanced Python\", 400)\n",
        "\n",
        "print(book1)  # Output: Book: Python Basics, Pages: 300\n",
        "print(book2)  # Output: Book: Advanced Python, Pages: 400\n",
        "\n",
        "book3 = book1 + book2  # Using __add__\n",
        "print(book3)  # Output: Book: Python Basics & Advanced Python, Pages: 700\n"
      ],
      "metadata": {
        "colab": {
          "base_uri": "https://localhost:8080/"
        },
        "id": "H45KtFIHYGYm",
        "outputId": "97f8ae2f-08b0-419b-925e-ec0d5a13db8e"
      },
      "execution_count": 6,
      "outputs": [
        {
          "output_type": "stream",
          "name": "stdout",
          "text": [
            "Book: Python Basics, Pages: 300\n",
            "Book: Advanced Python, Pages: 400\n",
            "Book: Python Basics & Advanced Python, Pages: 700\n"
          ]
        }
      ]
    },
    {
      "cell_type": "markdown",
      "source": [
        "12. Create a decorator that measures and prints the execution time of a function"
      ],
      "metadata": {
        "id": "bZPSbuAmYJW7"
      }
    },
    {
      "cell_type": "code",
      "source": [
        "import time\n",
        "\n",
        "def timing_decorator(func):\n",
        "    def wrapper(*args, **kwargs):\n",
        "        start_time = time.time()\n",
        "        result = func(*args, **kwargs)\n",
        "        end_time = time.time()\n",
        "        print(f\"Execution time: {end_time - start_time:.6f} seconds\")\n",
        "        return result\n",
        "    return wrapper\n",
        "\n",
        "# Example usage\n",
        "@timing_decorator\n",
        "def slow_function():\n",
        "    time.sleep(2)  # Simulates a slow process\n",
        "    print(\"Function executed\")\n",
        "\n",
        "slow_function()\n"
      ],
      "metadata": {
        "colab": {
          "base_uri": "https://localhost:8080/"
        },
        "id": "2qJv8pmbYZya",
        "outputId": "f896f380-43a6-477b-8ffd-cfc667efa5ee"
      },
      "execution_count": 7,
      "outputs": [
        {
          "output_type": "stream",
          "name": "stdout",
          "text": [
            "Function executed\n",
            "Execution time: 2.000158 seconds\n"
          ]
        }
      ]
    },
    {
      "cell_type": "markdown",
      "source": [
        "13. Explain the concept of the Diamond Problem in multiple inheritance. How does Python resolve it?\n",
        "### **Diamond Problem in Multiple Inheritance**  \n",
        "The **Diamond Problem** occurs in multiple inheritance when a class inherits from two classes that both derive from the same base class. This creates ambiguity in method resolution.\n",
        "\n",
        "#### **Example of the Diamond Problem**\n",
        "```python\n",
        "class A:\n",
        "    def show(self):\n",
        "        print(\"A\")\n",
        "\n",
        "class B(A):\n",
        "    def show(self):\n",
        "        print(\"B\")\n",
        "\n",
        "class C(A):\n",
        "    def show(self):\n",
        "        print(\"C\")\n",
        "\n",
        "class D(B, C):  # Multiple inheritance\n",
        "    pass\n",
        "\n",
        "obj = D()\n",
        "obj.show()  # Output: B\n",
        "```\n",
        "- `D` inherits from both `B` and `C`, which both inherit from `A`.  \n",
        "- The call `obj.show()` could come from `B`, `C`, or `A`, leading to ambiguity.\n",
        "\n",
        "---\n",
        "\n",
        "### **How Python Resolves It – MRO (Method Resolution Order)**\n",
        "Python resolves this using **C3 Linearization (MRO)**, ensuring a **consistent** method lookup order.\n",
        "\n",
        "To check the MRO:\n",
        "```python\n",
        "print(D.mro())  \n",
        "# Output: [<class 'D'>, <class 'B'>, <class 'C'>, <class 'A'>, <class 'object'>]\n",
        "```\n",
        "- **Depth-first, left-to-right order** (without repeating classes).\n",
        "- Since `B` appears first, `D` calls `B.show()`.\n",
        "\n",
        "Would you like more details on **C3 Linearization**?"
      ],
      "metadata": {
        "id": "smpm0ZLDYSCz"
      }
    },
    {
      "cell_type": "markdown",
      "source": [
        "14. Write a class method that keeps track of the number of instances created from a class"
      ],
      "metadata": {
        "id": "g7nRY6ulZ4Zx"
      }
    },
    {
      "cell_type": "code",
      "source": [
        "class InstanceCounter:\n",
        "    count = 0  # Class variable to track instances\n",
        "\n",
        "    def __init__(self):\n",
        "        InstanceCounter.count += 1  # Increment on each instance creation\n",
        "\n",
        "    @classmethod\n",
        "    def get_instance_count(cls):\n",
        "        return f\"Total instances created: {cls.count}\"\n",
        "\n",
        "# Example usage\n",
        "obj1 = InstanceCounter()\n",
        "obj2 = InstanceCounter()\n",
        "obj3 = InstanceCounter()\n",
        "\n",
        "print(InstanceCounter.get_instance_count())  # Output: Total instances created: 3\n"
      ],
      "metadata": {
        "colab": {
          "base_uri": "https://localhost:8080/"
        },
        "id": "Q7XJmOcmaAVZ",
        "outputId": "32bd10f0-cdd5-407b-b4b6-a76a279d10bc"
      },
      "execution_count": 8,
      "outputs": [
        {
          "output_type": "stream",
          "name": "stdout",
          "text": [
            "Total instances created: 3\n"
          ]
        }
      ]
    },
    {
      "cell_type": "markdown",
      "source": [
        "15. Implement a static method in a class that checks if a given year is a leap year."
      ],
      "metadata": {
        "id": "XAzhm_piaHcH"
      }
    },
    {
      "cell_type": "code",
      "source": [
        "class DateUtils:\n",
        "    @staticmethod\n",
        "    def is_leap_year(year):\n",
        "        return (year % 4 == 0 and year % 100 != 0) or (year % 400 == 0)\n",
        "\n",
        "# Example usage\n",
        "print(DateUtils.is_leap_year(2024))  # Output: True\n",
        "print(DateUtils.is_leap_year(1900))  # Output: False\n",
        "print(DateUtils.is_leap_year(2000))  # Output: True\n"
      ],
      "metadata": {
        "colab": {
          "base_uri": "https://localhost:8080/"
        },
        "id": "Y5QuXAu_aJhG",
        "outputId": "9efde41d-6c20-49ec-a150-7e15f4a1519d"
      },
      "execution_count": 9,
      "outputs": [
        {
          "output_type": "stream",
          "name": "stdout",
          "text": [
            "True\n",
            "False\n",
            "True\n"
          ]
        }
      ]
    }
  ]
}